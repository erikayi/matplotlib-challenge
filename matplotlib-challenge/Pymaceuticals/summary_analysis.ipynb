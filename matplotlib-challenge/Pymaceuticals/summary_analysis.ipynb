{
 "cells": [
  {
   "cell_type": "markdown",
   "id": "97bd4738",
   "metadata": {},
   "source": [
    "### Summary Analysis Of Drug Regimen on Mice"
   ]
  },
  {
   "cell_type": "markdown",
   "id": "1d075ca1",
   "metadata": {},
   "source": [
    "- This is a test of 10 different drug regimens to determine changes of the tumor size on mice.\n",
    "    - 10 drug regimens are: \n",
    "    - Capomulin, Ceftamin, Infubinol, Ketapril, Naftisol, Placebo, Propriva, Ramicane, Stelasyn, and Zoniferol"
   ]
  },
  {
   "cell_type": "markdown",
   "id": "9a8b5ab7",
   "metadata": {},
   "source": [
    "- Choose four drug regimens: Capomulin, Ramicane, Infubinol, and Ceftamin\n",
    "    - Capomulin and Ramicane have similar amounts of treatments.\n",
    "    - Infubinol and Ceftamin also have similar amounts of treatments. "
   ]
  },
  {
   "cell_type": "markdown",
   "id": "a30e5acc",
   "metadata": {},
   "source": [
    "- Capomulin and Ramicane treated the most on mice.\n",
    "    - However, they both are the least effective on mice among the four drug regimens. \n",
    "\n",
    "- Infubinol and Ceftamin treated the second to the least on mice. \n",
    "    - However, they are the most effective on mice among the four drug regimens, while infubinol is the highest among the four drug regimens."
   ]
  },
  {
   "cell_type": "markdown",
   "id": "7613e1fa",
   "metadata": {},
   "source": [
    "- Among all drug regimens, Propriva treated the least on mice, while Capomulin and Ramicane treated the most on mice. "
   ]
  },
  {
   "source": [
    "- The Weight of mice and the average tumor volume of mice increased with Capomulin treatment.\n",
    "    - Weight and the tumor volume have a relationship together that they increase out together. \n",
    "    - However, when the mouse (B128) gets treated with Capomulin, the tumor volume decreased significantly throughout the days. \n",
    "    - Here, we can estimate a mouse's (B128) weight decreases from the previous observation.  \n",
    "    - Finally, Capomulin test results will differ from individual and overall mice.  "
   ],
   "cell_type": "markdown",
   "metadata": {}
  },
  {
   "source": [],
   "cell_type": "markdown",
   "metadata": {}
  }
 ],
 "metadata": {
  "kernelspec": {
   "display_name": "Python 3",
   "language": "python",
   "name": "python3"
  },
  "language_info": {
   "codemirror_mode": {
    "name": "ipython",
    "version": 3
   },
   "file_extension": ".py",
   "mimetype": "text/x-python",
   "name": "python",
   "nbconvert_exporter": "python",
   "pygments_lexer": "ipython3",
   "version": "3.6.13"
  }
 },
 "nbformat": 4,
 "nbformat_minor": 5
}